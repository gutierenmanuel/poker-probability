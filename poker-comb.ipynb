{
 "cells": [
  {
   "cell_type": "markdown",
   "metadata": {},
   "source": [
    "## Poker Probability Exercise"
   ]
  },
  {
   "cell_type": "markdown",
   "metadata": {},
   "source": [
    "We have a regular Deck of Cards with 52 Cards. Each Time we extract 5 cards from the deck.\n",
    "\n",
    "We want to know the probability of drawing these hands:\n",
    "\n",
    "A - 4 Aces\n",
    "\n",
    "B - 4 Aces and a King\n",
    "\n",
    "C - Three 5 and 2 Jacks\n",
    "\n",
    "D - One 9, 10, Jacks, Queen and a King in any order\n",
    "\n",
    "E - Three of any suit and Two from another one\n",
    "\n",
    "F - At least one Ace"
   ]
  },
  {
   "cell_type": "markdown",
   "metadata": {},
   "source": [
    "We use the combination formula without repetition"
   ]
  },
  {
   "cell_type": "markdown",
   "metadata": {},
   "source": [
    "   $$C(n, r) = \\binom{n}{r} = \\frac{n!}{r!(n - r)!}$$"
   ]
  },
  {
   "cell_type": "markdown",
   "metadata": {},
   "source": [
    "   Where:\n",
    "   - \"n\" is the total number of elements in the set.\n",
    "   - \"r\" is the number of elements to be selected."
   ]
  },
  {
   "cell_type": "code",
   "execution_count": 17,
   "metadata": {},
   "outputs": [],
   "source": [
    "import math"
   ]
  },
  {
   "cell_type": "markdown",
   "metadata": {},
   "source": [
    "$$\\binom{52}{5}$$"
   ]
  },
  {
   "cell_type": "code",
   "execution_count": null,
   "metadata": {},
   "outputs": [
    {
     "name": "stdout",
     "output_type": "stream",
     "text": [
      "the total number of combinations in a poker deck is: 2598960\n"
     ]
    }
   ],
   "source": [
    "cards_in_deck = 52\n",
    "cards_in_hand = 5\n",
    "\n",
    "total_combinations = math.comb(cards_in_deck, cards_in_hand)\n",
    "\n",
    "print(f\"the total number of combinations in a poker deck is: {total_combinations}\")\n"
   ]
  },
  {
   "cell_type": "markdown",
   "metadata": {},
   "source": [
    "### Probability of 4 Aces"
   ]
  },
  {
   "cell_type": "markdown",
   "metadata": {},
   "source": [
    " $$\\binom{4}{4} \\cdot \\binom{48}{1}$$ "
   ]
  },
  {
   "cell_type": "code",
   "execution_count": 19,
   "metadata": {},
   "outputs": [
    {
     "name": "stdout",
     "output_type": "stream",
     "text": [
      "the total number of combinations of 4 aces is : 48\n"
     ]
    }
   ],
   "source": [
    "aces_combinations = math.comb(4, 4) * math.comb(48, 1)\n",
    "\n",
    "print(f\"the total number of combinations of 4 aces is : {aces_combinations}\")"
   ]
  },
  {
   "cell_type": "markdown",
   "metadata": {},
   "source": [
    "$$\\frac{\\binom{4}{4} \\cdot \\binom{48}{1}}{\\binom{52}{5}}$$"
   ]
  },
  {
   "cell_type": "code",
   "execution_count": 27,
   "metadata": {},
   "outputs": [
    {
     "name": "stdout",
     "output_type": "stream",
     "text": [
      "the probability is to obtain 48 cards out of 2598960\n",
      "The percentage of combinations with 4 specific cards (such as a poker of aces) is: 0.00185%\n"
     ]
    }
   ],
   "source": [
    "percent = (aces_combinations / total_combinations) * 100\n",
    "format_percent = \"{:.5f}\".format(percent)\n",
    "\n",
    "print(f'the probability is to obtain {aces_combinations} cards out of {total_combinations}')\n",
    "\n",
    "print(f'The percentage of combinations with 4 specific cards (such as a poker of aces) is: {format_percent}%')"
   ]
  },
  {
   "cell_type": "markdown",
   "metadata": {},
   "source": [
    "### Probability of 4 aces and a King"
   ]
  },
  {
   "cell_type": "markdown",
   "metadata": {},
   "source": [
    "$$\\binom{4}{4}\\cdot \\binom{4}{1}$$"
   ]
  },
  {
   "cell_type": "code",
   "execution_count": 25,
   "metadata": {},
   "outputs": [
    {
     "name": "stdout",
     "output_type": "stream",
     "text": [
      "the total number of combinations of 4 aces and 1 king is : 4\n"
     ]
    }
   ],
   "source": [
    "aces_combinations_and_king = math.comb(4, 4) * math.comb(4, 1)\n",
    "\n",
    "print(f\"the total number of combinations of 4 aces and 1 king is : {aces_combinations_and_king}\")"
   ]
  },
  {
   "cell_type": "markdown",
   "metadata": {},
   "source": [
    "$$\\frac{\\binom{4}{4} \\cdot \\binom{4}{1}}{\\binom{52}{5}}$$"
   ]
  },
  {
   "cell_type": "code",
   "execution_count": 31,
   "metadata": {},
   "outputs": [
    {
     "name": "stdout",
     "output_type": "stream",
     "text": [
      "the probability is to obtain 4 cards out of 2598960\n",
      "The percentage of combinations with 4 specific aces and a king is: 0.00015%\n"
     ]
    }
   ],
   "source": [
    "percent = (aces_combinations_and_king / total_combinations) * 100\n",
    "format_percent = \"{:.5f}\".format(percent)\n",
    "\n",
    "print(f'the probability is to obtain {aces_combinations_and_king} cards out of {total_combinations}')\n",
    "\n",
    "print(f'The percentage of combinations with 4 specific aces and a king is: {format_percent}%')"
   ]
  },
  {
   "cell_type": "markdown",
   "metadata": {},
   "source": [
    "### Probability of Three 5 and 2 Jacks"
   ]
  },
  {
   "cell_type": "markdown",
   "metadata": {},
   "source": [
    "$$\\binom{4}{3}\\cdot \\binom{4}{2}$$"
   ]
  },
  {
   "cell_type": "code",
   "execution_count": 32,
   "metadata": {},
   "outputs": [
    {
     "name": "stdout",
     "output_type": "stream",
     "text": [
      "the total number of combinations of three 5 and 2 jacks is : 24\n"
     ]
    }
   ],
   "source": [
    "three_5_and_2_jacks = math.comb(4, 3) * math.comb(4, 2)\n",
    "\n",
    "print(f\"the total number of combinations of three 5 and 2 jacks is : {three_5_and_2_jacks}\")"
   ]
  },
  {
   "cell_type": "markdown",
   "metadata": {},
   "source": [
    "$$\\frac{\\binom{4}{3} \\cdot \\binom{4}{2}}{\\binom{52}{5}}$$"
   ]
  },
  {
   "cell_type": "code",
   "execution_count": 33,
   "metadata": {},
   "outputs": [
    {
     "name": "stdout",
     "output_type": "stream",
     "text": [
      "the probability is to obtain 24 cards out of 2598960\n",
      "The percentage of combinations with 4 specific cards (such as a poker of aces) is: 0.00092%\n"
     ]
    }
   ],
   "source": [
    "percent = (three_5_and_2_jacks / total_combinations) * 100\n",
    "format_percent = \"{:.5f}\".format(percent)\n",
    "\n",
    "print(f'the probability is to obtain {three_5_and_2_jacks} cards out of {total_combinations}')\n",
    "\n",
    "print(f'The percentage of combinations with 4 specific cards (such as a poker of aces) is: {format_percent}%')"
   ]
  },
  {
   "cell_type": "markdown",
   "metadata": {},
   "source": [
    "### Probability of One 9, 10, Jacks, Queen and a King in any order"
   ]
  },
  {
   "cell_type": "markdown",
   "metadata": {},
   "source": [
    "$$\\binom{4}{1}\\cdot \\binom{4}{1}\\cdot \\binom{4}{1}\\cdot \\binom{4}{1}\\cdot \\binom{4}{1}$$"
   ]
  },
  {
   "cell_type": "code",
   "execution_count": 35,
   "metadata": {},
   "outputs": [
    {
     "name": "stdout",
     "output_type": "stream",
     "text": [
      "the total number of combinations of one 9, 10, Jacks, Queen and a King in any order is : 1024\n"
     ]
    }
   ],
   "source": [
    "five_cards_in_sequence = math.comb(4, 1) * math.comb(4, 1) * math.comb(4, 1) * math.comb(4, 1) * math.comb(4, 1)\n",
    "\n",
    "print(f\"the total number of combinations of one 9, 10, Jacks, Queen and a King in any order is : {five_cards_in_sequence}\")"
   ]
  },
  {
   "cell_type": "markdown",
   "metadata": {},
   "source": [
    "$$\\frac{\\binom{4}{1}\\cdot \\binom{4}{1}\\cdot \\binom{4}{1}\\cdot \\binom{4}{1}\\cdot \\binom{4}{1}}{\\binom{52}{5}}$$"
   ]
  },
  {
   "cell_type": "code",
   "execution_count": 36,
   "metadata": {},
   "outputs": [
    {
     "name": "stdout",
     "output_type": "stream",
     "text": [
      "the probability is to obtain 1024 cards out of 2598960\n",
      "The percentage of combinations one 9, 10, Jacks, Queen and a King in any order is: 0.03940%\n"
     ]
    }
   ],
   "source": [
    "percent = (five_cards_in_sequence / total_combinations) * 100\n",
    "format_percent = \"{:.5f}\".format(percent)\n",
    "\n",
    "print(f'the probability is to obtain {five_cards_in_sequence} cards out of {total_combinations}')\n",
    "\n",
    "print(f'The percentage of combinations one 9, 10, Jacks, Queen and a King in any order is: {format_percent}%')"
   ]
  },
  {
   "cell_type": "markdown",
   "metadata": {},
   "source": [
    "### Probability of three of any suit and Two from another one"
   ]
  },
  {
   "cell_type": "markdown",
   "metadata": {},
   "source": [
    "$$\\binom{13}{3}\\cdot \\binom{13}{2}$$"
   ]
  },
  {
   "cell_type": "code",
   "execution_count": 37,
   "metadata": {},
   "outputs": [
    {
     "name": "stdout",
     "output_type": "stream",
     "text": [
      "the total number of combinations of three of any suit and Two from another one is : 22308\n"
     ]
    }
   ],
   "source": [
    "tree_suit_and_two_suit = math.comb(13, 3) * math.comb(13, 2) \n",
    "\n",
    "print(f\"the total number of combinations of three of any suit and Two from another one is : {tree_suit_and_two_suit}\")"
   ]
  },
  {
   "cell_type": "markdown",
   "metadata": {},
   "source": [
    "$$\\frac{\\binom{13}{3} \\cdot \\binom{13}{2}}{\\binom{52}{5}}$$"
   ]
  },
  {
   "cell_type": "code",
   "execution_count": 38,
   "metadata": {},
   "outputs": [
    {
     "name": "stdout",
     "output_type": "stream",
     "text": [
      "the probability is to obtain 22308 cards out of 2598960\n",
      "The percentage of combinations of three of any suit and Two from another one is: 0.85834%\n"
     ]
    }
   ],
   "source": [
    "percent = (tree_suit_and_two_suit / total_combinations) * 100\n",
    "format_percent = \"{:.5f}\".format(percent)\n",
    "\n",
    "print(f'the probability is to obtain {tree_suit_and_two_suit} cards out of {total_combinations}')\n",
    "\n",
    "print(f'The percentage of combinations of three of any suit and Two from another one is: {format_percent}%')"
   ]
  },
  {
   "cell_type": "markdown",
   "metadata": {},
   "source": [
    "### Probability of at least one Ace"
   ]
  },
  {
   "cell_type": "markdown",
   "metadata": {},
   "source": [
    "$$\\binom{4}{1}\\cdot \\binom{48}{4}$$"
   ]
  },
  {
   "cell_type": "markdown",
   "metadata": {},
   "source": [
    "the probability of getting at least one ace is achieved by adding up the chances of getting one, two, three and four aces "
   ]
  },
  {
   "cell_type": "code",
   "execution_count": 49,
   "metadata": {},
   "outputs": [
    {
     "name": "stdout",
     "output_type": "stream",
     "text": [
      "778320\n",
      "103776\n",
      "4512\n",
      "48\n",
      "the total number of combinations of at leats one ace is : 886656\n"
     ]
    }
   ],
   "source": [
    "one_ace = math.comb(4, 1) * math.comb(48, 4) \n",
    "\n",
    "two_aces = math.comb(4, 2) * math.comb(48, 3) \n",
    "\n",
    "three_aces = math.comb(4, 3) * math.comb(48, 2)\n",
    "\n",
    "four_aces = math.comb(4, 4) * math.comb(48, 1)\n",
    "\n",
    "\n",
    "print(one_ace)\n",
    "print(two_aces)\n",
    "print(three_aces)\n",
    "print(four_aces)\n",
    "\n",
    "at_leats_one_ace = one_ace + two_aces + three_aces + four_aces\n",
    "\n",
    "print(f\"the total number of combinations of at leats one ace is : {at_leats_one_ace}\")"
   ]
  },
  {
   "cell_type": "markdown",
   "metadata": {},
   "source": [
    "$$\\frac{\\binom{4}{1} \\cdot \\binom{48}{4}}{\\binom{52}{5}}$$"
   ]
  },
  {
   "cell_type": "code",
   "execution_count": 50,
   "metadata": {},
   "outputs": [
    {
     "name": "stdout",
     "output_type": "stream",
     "text": [
      "the probability is to obtain 886656 cards out of 2598960\n",
      "The percentage of combinations of at leats one ace is: 34.11580%\n"
     ]
    }
   ],
   "source": [
    "percent = (at_leats_one_ace / total_combinations) * 100\n",
    "format_percent = \"{:.5f}\".format(percent)\n",
    "\n",
    "print(f'the probability is to obtain {at_leats_one_ace} cards out of {total_combinations}')\n",
    "\n",
    "print(f'The percentage of combinations of at leats one ace is: {format_percent}%')"
   ]
  },
  {
   "cell_type": "markdown",
   "metadata": {},
   "source": [
    "Another way to obtain the possibility of at least one ace in which I support my theories."
   ]
  },
  {
   "cell_type": "code",
   "execution_count": 52,
   "metadata": {},
   "outputs": [
    {
     "name": "stdout",
     "output_type": "stream",
     "text": [
      "0.34115800166220334\n"
     ]
    }
   ],
   "source": [
    "# Probability calculation\n",
    "probability_no_ace = (48/52) * (47/51) * (46/50) * (45/49) * (44/48)\n",
    "probability_at_least_one_ace = 1 - probability_no_ace\n",
    "print(probability_at_least_one_ace)\n"
   ]
  }
 ],
 "metadata": {
  "kernelspec": {
   "display_name": "venv",
   "language": "python",
   "name": "python3"
  },
  "language_info": {
   "codemirror_mode": {
    "name": "ipython",
    "version": 3
   },
   "file_extension": ".py",
   "mimetype": "text/x-python",
   "name": "python",
   "nbconvert_exporter": "python",
   "pygments_lexer": "ipython3",
   "version": "3.11.4"
  }
 },
 "nbformat": 4,
 "nbformat_minor": 2
}
